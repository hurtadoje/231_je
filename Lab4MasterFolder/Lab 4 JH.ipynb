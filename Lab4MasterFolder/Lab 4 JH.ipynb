{
 "cells": [
  {
   "cell_type": "code",
   "execution_count": 6,
   "metadata": {
    "scrolled": false
   },
   "outputs": [
    {
     "ename": "OperationalError",
     "evalue": "table genes already exists",
     "output_type": "error",
     "traceback": [
      "\u001b[0;31m---------------------------------------------------------------------------\u001b[0m",
      "\u001b[0;31mOperationalError\u001b[0m                          Traceback (most recent call last)",
      "\u001b[0;32m<ipython-input-6-43d4909d8452>\u001b[0m in \u001b[0;36m<module>\u001b[0;34m()\u001b[0m\n\u001b[1;32m     12\u001b[0m                             \u001b[0mstart\u001b[0m \u001b[0mINT\u001b[0m\u001b[0;34m,\u001b[0m\u001b[0;34m\u001b[0m\u001b[0m\n\u001b[1;32m     13\u001b[0m                             \u001b[0mend\u001b[0m \u001b[0mINT\u001b[0m\u001b[0;34m,\u001b[0m\u001b[0;34m\u001b[0m\u001b[0m\n\u001b[0;32m---> 14\u001b[0;31m                             sequence TEXT); \"\"\")\n\u001b[0m\u001b[1;32m     15\u001b[0m c.execute(\"\"\"CREATE TABLE pathways \n\u001b[1;32m     16\u001b[0m                             (name TEXT, \n",
      "\u001b[0;31mOperationalError\u001b[0m: table genes already exists"
     ]
    }
   ],
   "source": [
    "from Bio import Entrez\n",
    "import sqlite3\n",
    "conn = sqlite3.connect('my.db')\n",
    "c = conn.cursor()\n",
    "\n",
    "c.execute(\"\"\"CREATE TABLE genes \n",
    "                            (id INT, \n",
    "                            seqtype TEXT, \n",
    "                            name TEXT, \n",
    "                            description TEXT, \n",
    "                            chromosome TEXT, \n",
    "                            start INT, \n",
    "                            end INT, \n",
    "                            sequence TEXT); \"\"\")\n",
    "c.execute(\"\"\"CREATE TABLE pathways \n",
    "                            (name TEXT, \n",
    "                            description TEXT, \n",
    "                            enzymes TEXT); \"\"\")\n",
    "c.execute(\"\"\"CREATE TABLE enzymes \n",
    "                            (ec TEXT, \n",
    "                            name TEXT,\n",
    "                            function TEXT) \"\"\")\n",
    "\n"
   ]
  },
  {
   "cell_type": "markdown",
   "metadata": {},
   "source": [
    "The method I created below is intended for an input 5 different strings and outputs a list of the name, sequence, ID number, and description of a desired entry in NCBI in a desired format. Respectively, (organism, dboi1, dboi2, ooi, format) refer to the organism of interest, the db argument desired for the Entrez.esearch function, the desired db argument for the Entrez.efetch function, the object of interest that we are looking up(e.g. 'hexokinase' if we are interested in an enzyme, or e.g. 'BRCA1' if we are interested in a gene) and the format argument for the Entrez.esearch, Entrez.efetch, and SeqIO.parse functions. "
   ]
  },
  {
   "cell_type": "code",
   "execution_count": null,
   "metadata": {},
   "outputs": [],
   "source": [
    "def dbentrez(organism, dboi1, dboi2, ooi, format):\n",
    "    from Bio import SeqIO\n",
    "    from Bio import Entrez\n",
    "    null_output = 'nothing happened'\n",
    "    Entrez.email = 'hurtadoj@berkeley.edu'\n",
    "    pphandle = Entrez.esearch(db=dboi1,\n",
    "                            term= [organism + ' [ORGN] '+ ooi] ,\n",
    "                            sort='relevance',\n",
    "                            idtype='acc')\n",
    "    for i in Entrez.read(pphandle)['IdList']:\n",
    "        prohandle = Entrez.efetch(db=dboi2, id=i, rettype = format, retmode = 'text')\n",
    "        print('inner sleep 1')\n",
    "        time.sleep(2.0)\n",
    "    \n",
    "        raw_thing = prohandle\n",
    "        processed_thing = SeqIO.parse(raw_thing, format)\n",
    "        for i in processed_thing:\n",
    "            description = i.description\n",
    "            if 'partial' in description:\n",
    "                print(\"this one is partial\")\n",
    "            else:\n",
    "                print('Full sequence of ' + str(ooi) +' available')\n",
    "                if 'mRNA' in description:\n",
    "                    print('this is mRNA')\n",
    "                name = i.name\n",
    "                seqp = i.seq\n",
    "                seq = str(seqp)\n",
    "                id = i.id\n",
    "                desc = i.description\n",
    "                output_list = [name, seq, id, desc]\n",
    "                print(output_list)\n",
    "                return(output_list)\n",
    "    return(null_output)"
   ]
  },
  {
   "cell_type": "markdown",
   "metadata": {},
   "source": [
    "*From top to bottom description of the bentrez method defined above*\n",
    "Imports the necessary modules and instantiates the necessary variables. \n",
    "pphandle is created by using the input arguments in Entrez.esearch to scrape relevance-sorted accession numbers for the object of interest \"ooi\" in organism \"organism\" from the database dboi1. "
   ]
  },
  {
   "cell_type": "code",
   "execution_count": null,
   "metadata": {},
   "outputs": [],
   "source": [
    "def dbentrez(organism, dboi1, dboi2, ooi, format):\n",
    "    from Bio import SeqIO\n",
    "    from Bio import Entrez\n",
    "    null_output = 'nothing happened'\n",
    "    Entrez.email = 'hurtadoj@berkeley.edu'\n",
    "    pphandle = Entrez.esearch(db=dboi1,\n",
    "                            term= [organism + ' [ORGN] '+ ooi] ,\n",
    "                            sort='relevance',\n",
    "                            idtype='acc')"
   ]
  },
  {
   "cell_type": "markdown",
   "metadata": {},
   "source": [
    "For every accession number in pphandle, a new handle is created with efetch, which retrieves data in the format 'format' from database 'dboi2' (a user of this dbentrez may want to esearch and efetch in 2 different databases). The function then prints a sleep message and sleeps for 2 seconds to avoid overloading the NCBI servers. "
   ]
  },
  {
   "cell_type": "code",
   "execution_count": null,
   "metadata": {},
   "outputs": [],
   "source": [
    "for i in Entrez.read(pphandle)['IdList']:\n",
    "        prohandle = Entrez.efetch(db=dboi2, id=i, rettype = format, retmode = 'text')\n",
    "        print('inner sleep 1')\n",
    "        time.sleep(2.0)\n",
    "    "
   ]
  },
  {
   "cell_type": "markdown",
   "metadata": {},
   "source": [
    "The information in prohandle is then transferred to a new variable raw_thing. The information in raw_thing is parsed by SeqIO in its format, specified by the argument 'format'. We can now iterate through the \"processed_thing\" generator and extract valuable attributes (e.g. sequence, name, ID, description) using Bio.SeqIO as follows"
   ]
  },
  {
   "cell_type": "code",
   "execution_count": null,
   "metadata": {},
   "outputs": [],
   "source": [
    "     raw_thing = prohandle\n",
    "     processed_thing = SeqIO.parse(raw_thing, format)"
   ]
  },
  {
   "cell_type": "markdown",
   "metadata": {},
   "source": [
    "The following code iterates through the generator output by SeqIO and sets a new variable named description to i's description attribute. Because I noticed that the most relevant efetch results often only contained partial sequences, I wanted to screen against this with the simple if statement below. If the string 'partial' is contained within any part of 'i's description, then the data in the database entry is not recorded and the user is informed with a print statement that the database entry likley contained only partial information. If \"partial\" is not in the entry's description, then a print message informs the user that a complete sequence has likely been found. If the sequence is an mRNA sequence, then 'mRNA' will likely be in the description (as I verified manually) and the user is informed of this too. A series of variables are then taken from i's attributes, which are ordered in a list. The list is printed and returned by the function. if for some reason 'processed_thing' is not iteratable because of some error, the null_output is returned, which is simply a string saying 'nothing happened' defined at the beginning of the method. "
   ]
  },
  {
   "cell_type": "code",
   "execution_count": null,
   "metadata": {},
   "outputs": [],
   "source": [
    "for i in processed_thing:\n",
    "            description = i.description\n",
    "            if 'partial' in description:\n",
    "                print(\"this one is partial\")\n",
    "            else:\n",
    "                print('Full sequence of ' + str(ooi) +' available')\n",
    "                if 'mRNA' in description:\n",
    "                    print('this is mRNA')\n",
    "                name = i.name\n",
    "                seqp = i.seq\n",
    "                seq = str(seqp)\n",
    "                id = i.id\n",
    "                desc = i.description\n",
    "                output_list = [name, seq, id, desc]\n",
    "                print(output_list)\n",
    "                return(output_list)\n",
    "return(null_output)"
   ]
  },
  {
   "cell_type": "markdown",
   "metadata": {},
   "source": [
    "_The code below uses dbentrez to generate the lists I need to iterate through to eventually populate my database_"
   ]
  },
  {
   "cell_type": "code",
   "execution_count": null,
   "metadata": {},
   "outputs": [],
   "source": [
    "import time\n",
    "list_of_organisms = ['homo sapiens', 'drosophila', 'escherichia coli']\n",
    "list_of_pathways = ['glycolysis', 'TCA', 'PPP']\n",
    "list_of_enzymes = [['hexokinase', 'glucokinase', 'phosphofructokinase','pyruvate kinase'],['citrate synthase', 'aconitase', 'isocitrate dehydrogenase','succinate dehydrogenase'],\n",
    "                   ['glucose-6-phosphate dehydrogenase', 'gluconolactonase', '6-phosphogluconate dehydrogenase', 'Transaldolase']]\n",
    "\n",
    "\n",
    "\n",
    "dict_of_pathways_and_their_enzymes = {}\n",
    "for pathway in range(0,len(list_of_pathways)):\n",
    "    dict_of_pathways_and_their_enzymes[list_of_pathways[pathway]]= list_of_enzymes[pathway]\n",
    "dict_of_organisms_and_their_pathways = {}\n",
    "\n",
    "for organism in list_of_organisms:\n",
    "    for pathway in list_of_pathways:\n",
    "        dict_of_organisms_and_their_pathways[organism] = dict_of_pathways_and_their_enzymes\n",
    "empty_copy_for_output = {}\n",
    "\n",
    "for organism in list_of_organisms:\n",
    "    empty_copy_for_output[organism] = {}\n",
    "    for empty_pathway in list_of_pathways:\n",
    "        empty_copy_for_output[organism][empty_pathway] = []\n",
    "\n",
    "## Using Entrez ##\n",
    "import json\n",
    "olist = dict_of_organisms_and_their_pathways.keys()\n",
    "plist = dict_of_pathways_and_their_enzymes.keys()\n",
    "for o in olist:\n",
    "    print(o)\n",
    "    # if o == 'escherichia coli' or o == 'homo sapiens':\n",
    "        # continue\n",
    "    for p in plist:\n",
    "        print(p)\n",
    "        temp_list_of_enzymes = []\n",
    "        for enzyme in dict_of_organisms_and_their_pathways[o][p]:\n",
    "            print(enzyme)\n",
    "            useable_output = dbentrez(o,'nucleotide','nucleotide',enzyme, 'fasta')\n",
    "            # print('USEABLE OUTPUT IS ')\n",
    "            # print(useable_output)\n",
    "            # print(useable_output)\n",
    "            print('sleeping')\n",
    "            time.sleep(2.0)\n",
    "            # print('BEFORE: ' + str(empty_copy_for_output))\n",
    "            empty_copy_for_output[o][p] += [useable_output]\n",
    "            # print('AFTER: ' + str(empty_copy_for_output))\n",
    "    print(empty_copy_for_output)\n",
    "print(empty_copy_for_output)\n",
    "empty_copy_for_output_string = str(empty_copy_for_output)\n",
    "text = open('gdb.txt', 'w')\n",
    "text.write(empty_copy_for_output_string)\n",
    "text.close()\n",
    "with open('gdb.json', 'w') as fp:\n",
    "    json.dump(empty_copy_for_output, fp)"
   ]
  },
  {
   "cell_type": "markdown",
   "metadata": {},
   "source": [
    "The code below imports the time module to allow me to call the sleep function. I also set lists that I will need to iterate through later containing the organisms, pathways, and enzymes of interest. Notably, the list_of_enzymes enzymes are separated into different lists depending on which pathway they were predetermined to belong to. "
   ]
  },
  {
   "cell_type": "code",
   "execution_count": null,
   "metadata": {},
   "outputs": [],
   "source": [
    "import time\n",
    "list_of_organisms = ['homo sapiens', 'drosophila', 'escherichia coli']\n",
    "list_of_pathways = ['glycolysis', 'TCA', 'PPP']\n",
    "list_of_enzymes = [['hexokinase', 'glucokinase', 'phosphofructokinase','pyruvate kinase'],['citrate synthase', 'aconitase', 'isocitrate dehydrogenase','succinate dehydrogenase'],\n",
    "                   ['glucose-6-phosphate dehydrogenase', 'gluconolactonase', '6-phosphogluconate dehydrogenase', 'Transaldolase']]"
   ]
  },
  {
   "cell_type": "markdown",
   "metadata": {},
   "source": [
    "Defines an empty dictionary to contain pathways as keys to a list of their enzymes. This dictionary is populated by iterating through the previously defined list_of_pathways list. \n",
    "\n",
    "Next: defines an empty dictionary (dict_of_organisms_and_their_pathways) to become a nested dictionary containing organisms as keys to another dictoinary containing pathways as keys to a list of their enzymes. This dictionary will be used to iterate through the necessary set of arguments I need to put into the previously defined dbentrez method. \n",
    "\n",
    "Finally, an empty dictionary (empty_copy_for_output) list is define to be populated with the same keys as the previously defined nested dictionary. However, the pathway keys remain assigned to empty lists that will be populated later by the output of the previously defined dbentrez method. "
   ]
  },
  {
   "cell_type": "code",
   "execution_count": null,
   "metadata": {},
   "outputs": [],
   "source": [
    "dict_of_pathways_and_their_enzymes = {}\n",
    "for pathway in range(0,len(list_of_pathways)):\n",
    "    dict_of_pathways_and_their_enzymes[list_of_pathways[pathway]]= list_of_enzymes[pathway]\n",
    "dict_of_organisms_and_their_pathways = {}\n",
    "\n",
    "for organism in list_of_organisms:\n",
    "    for pathway in list_of_pathways:\n",
    "        dict_of_organisms_and_their_pathways[organism] = dict_of_pathways_and_their_enzymes\n",
    "empty_copy_for_output = {}\n",
    "\n",
    "for organism in list_of_organisms:\n",
    "    empty_copy_for_output[organism] = {}\n",
    "    for empty_pathway in list_of_pathways:\n",
    "        empty_copy_for_output[organism][empty_pathway] = []"
   ]
  },
  {
   "cell_type": "markdown",
   "metadata": {},
   "source": [
    "First line imports json\n",
    "Second and third lines generate an iteratable variable (not technically a list) containing the organisms (olist) and pahtways(plist) to iterate through and input as arguments to dbentrez. \n",
    "\n",
    "Next, the code iterates through each organism and pathway. For each pathway it iterates through, it calls the dbentrez method previously defined, in this case inputting 'nucleotide' and 'nucleotide' for the dboi1 and dboi2 arguments.  Several print statements were included for debugging purposes and commented out. Then, a sleeping message is printed and the sleep function is called for 2 seconds to prevent overloading the NCBI servers. \n",
    "\n",
    "A given enzyme's output from dbentrez is then stored under the previously-defined empty_copy_for_output list under its respective organism and pathway. \n",
    "\n",
    "Finally, more print statements verify to the user that the code is outputting expected results and the output dictionary is saved as a text file and also as a json file to be loaded into another script below. "
   ]
  },
  {
   "cell_type": "code",
   "execution_count": null,
   "metadata": {},
   "outputs": [],
   "source": [
    "## Using Entrez ##\n",
    "import json\n",
    "olist = dict_of_organisms_and_their_pathways.keys()\n",
    "plist = dict_of_pathways_and_their_enzymes.keys()\n",
    "for o in olist:\n",
    "    print(o)\n",
    "    # if o == 'escherichia coli' or o == 'homo sapiens':\n",
    "        # continue\n",
    "    for p in plist:\n",
    "        print(p)\n",
    "        for enzyme in dict_of_organisms_and_their_pathways[o][p]:\n",
    "            print(enzyme)\n",
    "            useable_output = dbentrez(o,'nucleotide','nucleotide',enzyme, 'fasta')\n",
    "            # print('USEABLE OUTPUT IS ')\n",
    "            # print(useable_output)\n",
    "            # print(useable_output)\n",
    "            print('sleeping')\n",
    "            time.sleep(2.0)\n",
    "            # print('BEFORE: ' + str(empty_copy_for_output))\n",
    "            empty_copy_for_output[o][p] += [useable_output]\n",
    "            # print('AFTER: ' + str(empty_copy_for_output))\n",
    "    print(empty_copy_for_output)\n",
    "print(empty_copy_for_output)\n",
    "empty_copy_for_output_string = str(empty_copy_for_output)\n",
    "text = open('gdb.txt', 'w')\n",
    "text.write(empty_copy_for_output_string)\n",
    "text.close()\n",
    "with open('gdb.json', 'w') as fp:\n",
    "    json.dump(empty_copy_for_output, fp)"
   ]
  },
  {
   "cell_type": "markdown",
   "metadata": {},
   "source": [
    "Imports json and uses it to import the outputs of dbentrez containing (from top to bottom) the dictionary containing lists with data for all enzymes in drosophila, ecoli, and humans. The fourth line opens a dictionary containing the relevant data for the defined genes in the define enzymes in all three defined organisms. All dictionaries were generated using the script above, including the previously-defined dbentrez method. The first three dictionaries were generated separately instead of together due to timeout errors from NCBI that I keept encountering whenever the script ran longer than roughly 5 minutes and the database of interest was 'enzymes'. "
   ]
  },
  {
   "cell_type": "code",
   "execution_count": null,
   "metadata": {},
   "outputs": [],
   "source": [
    "import json\n",
    "with open('ProDict2drosoc.json', 'r') as fp:\n",
    "    droso_dict = json.load(fp)\n",
    "with open('ProDict2ecolic.json', 'r') as fp:\n",
    "    ecoli_dict = json.load(fp)\n",
    "with open('ProDict2humanc.json', 'r') as fp:\n",
    "    human_dict = json.load(fp)\n",
    "with open('gdb.json', 'r') as fp:\n",
    "    genes_dict = json.load(fp)"
   ]
  },
  {
   "cell_type": "markdown",
   "metadata": {},
   "source": [
    "The below code simply manually populates a bunch of lists with manually gathered data that I will need to iterate through to populate my sql tables. The functions in both 'list_of_enzyme_functions\" and \"list_of_pathway_functions\" were gathered manually by copying and pasting information from each enzyme amd pathway's wikipedia page. "
   ]
  },
  {
   "cell_type": "code",
   "execution_count": null,
   "metadata": {},
   "outputs": [],
   "source": [
    "list_of_pathways = ['glycolysis', 'TCA', 'PPP']\n",
    "list_of_enzymes = [['hexokinase', 'glucokinase', 'phosphofructokinase','pyruvate kinase'],['citrate synthase', 'aconitase', 'isocitrate dehydrogenase','succinate dehydrogenase'],\n",
    "                   ['glucose-6-phosphate dehydrogenase', 'gluconolactonase', '6-phosphogluconate dehydrogenase', 'transaldolase']]\n",
    "list_of_enzyme_functions = [['Phosphorylates hexoses',\n",
    "                      'Facilitates phosphorylation of glucose to glucose-6-phosphate',\n",
    "                      'Converts fructose-6-phosphate to fuctose-1,6-bisphosphate',\n",
    "                      'Catalyzes transfer of phosphate group from PEP to ADP, yielding one pyruvate and one ATP'],\n",
    "                     ['Catalyzes first reaction of TCA cycle by condensing acetyl-CoA and oxaloacetate to form citrate',\n",
    "                       'Catalyzes the stereo-specific isomerization of citrate to isocitrate via cis-aconitate',\n",
    "                      'catalyzes the oxidative decarboxylation of isocitrate, producing alpha-ketoglutarate (α-ketoglutarate) and CO2.',\n",
    "                      'catalyzes the oxidation of succinate to fumarate with the reduction of ubiquinone to ubiquinol.'],\n",
    "                     ['Catalyzes reaction of D-glucose 6-phosphate and NADP to 6-phospho-D-glucono-1,5-lactone + NADPH',\n",
    "                      'catalyzes the chemical reaction D-glucono-1,5-lactone + H2O D-gluconate.',\n",
    "                      'It is an oxidative carboxylase that catalyses the decarboxylating reduction of 6-phosphogluconate into ribulose 5-phosphate in the presence of NADP.',\n",
    "                      'Catalyzes sedoheptulose 7-phosphate + glyceraldehyde 3-phosphate erythrose 4-phosphate + fructose 6-phosphate']\n",
    "                     ]\n",
    "list_of_pathway_functions = ['Breakdown of glucose by enzymes, releasing energy and pyruvic acid',\n",
    "                             'Performs oxidation of acetyl-CoA into ATP and CO2 and produces the essential reducing agent NADH',\n",
    "                             'Generates NADPH, pentoses, and ribose 5-phosphate, a crucial precursor for synthesizing nucleotides']\n",
    "list_of_dicts = [human_dict, droso_dict, ecoli_dict]"
   ]
  },
  {
   "cell_type": "markdown",
   "metadata": {},
   "source": [
    "The long for loop below simply generates a list for populating the 'enzyme' table (to be defined later) with the dictionaries generated by the dbentrez method and the script outline above. "
   ]
  },
  {
   "cell_type": "code",
   "execution_count": null,
   "metadata": {},
   "outputs": [],
   "source": [
    "master_list_of_enzyme_entries = []\n",
    "for dict in list_of_dicts:\n",
    "    keysindict = list((dict.keys()))\n",
    "    relevant_index = list_of_dicts.index(dict)\n",
    "    relevant_organism = keysindict[relevant_index]\n",
    "\n",
    "    working_dict = dict[relevant_organism]\n",
    "    local_pathways = list(working_dict.keys())\n",
    "    for pathway in local_pathways:\n",
    "        working_pathway = working_dict[pathway]\n",
    "        pathway_index = local_pathways.index(pathway)\n",
    "        for enzyme in working_pathway:\n",
    "            enzyme_index = working_pathway.index(enzyme)\n",
    "            new_enzyme_name = list_of_enzymes[pathway_index][enzyme_index]\n",
    "            new_enzyme_ID = working_dict[pathway][enzyme_index][0]\n",
    "            new_enzyme_aaseq = working_dict[pathway][enzyme_index][1]\n",
    "            new_enzyme_organism = relevant_organism\n",
    "            new_enzyme_pathway = pathway\n",
    "            new_function = list_of_enzyme_functions[pathway_index][enzyme_index]\n",
    "            print(new_enzyme_name)\n",
    "            print(new_enzyme_ID)\n",
    "            print(new_enzyme_aaseq)\n",
    "            print(new_enzyme_organism)\n",
    "            print(new_enzyme_pathway)\n",
    "            print(new_function)\n",
    "\n",
    "            new_entry = [new_enzyme_name,\n",
    "                         new_enzyme_ID,\n",
    "                         new_enzyme_aaseq,\n",
    "                         new_enzyme_organism,\n",
    "                         new_enzyme_pathway,\n",
    "                         new_function]\n",
    "            master_list_of_enzyme_entries.append(new_entry)\n",
    "\n",
    "print('FINAL OUTPUT' + str(master_list_of_enzyme_entries))\n",
    "#####"
   ]
  },
  {
   "cell_type": "markdown",
   "metadata": {},
   "source": [
    "Does the same as above but for the lists to populate the pathways sql table. However, the lists iterated through to generate the final set of lists to populate the pathway table were all made from manually-organized information. "
   ]
  },
  {
   "cell_type": "code",
   "execution_count": null,
   "metadata": {},
   "outputs": [],
   "source": [
    "master_list_pathway_entries = []\n",
    "for pathway in list_of_pathways:\n",
    "    pathway_name = pathway\n",
    "    pathway_description = list_of_pathway_functions[list_of_pathways.index(pathway)]\n",
    "    pathway_enzymes = str(list_of_enzymes[list_of_pathways.index(pathway)])\n",
    "    new_entry = [pathway_name, pathway_description, pathway_enzymes]\n",
    "    master_list_pathway_entries.append(new_entry)"
   ]
  },
  {
   "cell_type": "markdown",
   "metadata": {},
   "source": [
    "Does the same as above but for the lists to populate the gene sql table. The dictionaries iterated through ot make the necessary lists here were generated with the script and dbentrez method outline above. "
   ]
  },
  {
   "cell_type": "code",
   "execution_count": null,
   "metadata": {},
   "outputs": [],
   "source": [
    "master_list_gene_entries = []\n",
    "all_organisms = list(genes_dict.keys())\n",
    "for o in all_organisms:\n",
    "    organism_pathways = list(genes_dict[o].keys())\n",
    "    for p in organism_pathways:\n",
    "        pathway_genes_list = genes_dict[o][p]\n",
    "        for entry in pathway_genes_list:\n",
    "            gene_name = entry[0]\n",
    "            gene_seq = entry[1]\n",
    "            gene_id = entry[2]\n",
    "            gene_description = entry[3]\n",
    "            gene_organism = o\n",
    "            new_entry = [gene_id, gene_name, gene_description,gene_organism,gene_seq]\n",
    "            master_list_gene_entries.append(new_entry)"
   ]
  },
  {
   "cell_type": "markdown",
   "metadata": {},
   "source": [
    "Imports sqlite and creates the tables that I will populate in the following lines of code. "
   ]
  },
  {
   "cell_type": "code",
   "execution_count": null,
   "metadata": {},
   "outputs": [],
   "source": [
    "import sqlite3\n",
    "selected_glycolysis_enzymes = ['hexokinase, glucokinase,'\n",
    "                               'phosphofructokinase',\n",
    "                               'pyruvate kinase']\n",
    "selected_tcacycle_enzymes = ['citrate synthase', 'aconitase',\n",
    "                             'isocitrate dehydrogenase',\n",
    "                             'succinate dehydrogenase'\n",
    "                             ]\n",
    "selected_pentosephosphate_enzymes = ['glucose-6-phosphate dehydrogenase',\n",
    "                                     'gluconolactonase',\n",
    "                                     '6-phosphogluconate dehydrogenase',\n",
    "                                     'ribulose-5-phosphate']\n",
    "\n",
    "conn = sqlite3.connect('JHLab4.db')\n",
    "c = conn.cursor()\n",
    "\n",
    "c.execute(\"\"\"CREATE TABLE genes \n",
    "                            (id TEXT,  \n",
    "                            name TEXT, \n",
    "                            description TEXT,\n",
    "                            organism TEXT,  \n",
    "                            sequence TEXT); \"\"\")\n",
    "c.execute(\"\"\"CREATE TABLE pathways \n",
    "                            (name TEXT, \n",
    "                            description TEXT, \n",
    "                            enzymes TEXT); \"\"\")\n",
    "c.execute(\"\"\"CREATE TABLE enzymes \n",
    "                            (ec TEXT,\n",
    "                            name TEXT,\n",
    "                            aaseq TEXT, \n",
    "                            organism TEXT,\n",
    "                            epathway TEXT,\n",
    "                            efunction TEXT) \"\"\")\n"
   ]
  },
  {
   "cell_type": "markdown",
   "metadata": {},
   "source": [
    "Adds the relevant information into each cell of each table from the \"master_list_x_entries\" lists, where \"x\" can be replaced with \"enzyme\", \"pathway\" or \"gene to create a name of one of the lists I'm referring to. The conn.commit() command then commits the changes that I've made to the database. "
   ]
  },
  {
   "cell_type": "code",
   "execution_count": null,
   "metadata": {},
   "outputs": [],
   "source": [
    "for enzymeentry in master_list_of_enzyme_entries:\n",
    "    c.execute(\"\"\" INSERT INTO enzymes(name, ec, aaseq, organism, epathway, efunction)\"\"\"\n",
    "    \"\"\"VALUES (?,?,?,?,?,?)\"\"\" , (enzymeentry[0],enzymeentry[1],\n",
    "                                  enzymeentry[2],enzymeentry[3]\n",
    "                                  ,enzymeentry[4],enzymeentry[5]))\n",
    "for pathwayentry in master_list_pathway_entries:\n",
    "    c.execute(\"\"\" INSERT INTO pathways(name, description, enzymes)\"\"\" \n",
    "              \"\"\"VALUES(?,?,?)\"\"\", (pathwayentry[0], pathwayentry[1], pathwayentry[2]))\n",
    "for pathwayentry in master_list_gene_entries:\n",
    "    c.execute(\"\"\" INSERT INTO genes(id, name, description, organism, sequence)\"\"\" \n",
    "              \"\"\"VALUES(?,?,?,?,?)\"\"\", (pathwayentry[0], pathwayentry[1], pathwayentry[2],\n",
    "                                    pathwayentry[3],pathwayentry[4]))\n",
    "conn.commit()"
   ]
  }
 ],
 "metadata": {
  "kernelspec": {
   "display_name": "Python 3",
   "language": "python",
   "name": "python3"
  },
  "language_info": {
   "codemirror_mode": {
    "name": "ipython",
    "version": 3
   },
   "file_extension": ".py",
   "mimetype": "text/x-python",
   "name": "python",
   "nbconvert_exporter": "python",
   "pygments_lexer": "ipython3",
   "version": "3.5.2"
  }
 },
 "nbformat": 4,
 "nbformat_minor": 2
}
