{
 "cells": [
  {
   "cell_type": "markdown",
   "metadata": {},
   "source": [
    "__Purpose__ : Clean my friend Jamie's data and deconvolute the Shewanella oneidensis genomic reads from their own DNA, which contaminated the run. \n",
    "\n",
    "\n",
    "First, I ran the following command on the PuTTY terminal. The following command submits the sequencing reads (illumina_reads.fastq) to a human genome database (hg19) and obtains unaligned reads as unaligned.fastq. __The reads left unaligned to the human genome ( in unaligned.fastq) will contain the Shewanella oneidensis reads.__ "
   ]
  },
  {
   "cell_type": "code",
   "execution_count": null,
   "metadata": {},
   "outputs": [],
   "source": [
    "bowtie2 -p 4 --very-fast --no-unal -x /data/hg19/hg19 -U /data/lab6/illumina_reads.fastq -S output1.sam --un unaligned.fastq\n"
   ]
  },
  {
   "cell_type": "markdown",
   "metadata": {},
   "source": [
    "The following output was generated: \n",
    "\n",
    "1124714 reads; of these:\n",
    "  1124714 (100.00%) were unpaired; of these:\n",
    "    1028379 (91.43%) aligned 0 times\n",
    "    87274 (7.76%) aligned exactly 1 time\n",
    "    9061 (0.81%) aligned >1 times\n",
    "8.57% overall alignment rate\n"
   ]
  },
  {
   "cell_type": "markdown",
   "metadata": {},
   "source": [
    "__8.57% of my sequencing library came from contaminating human DNA.__ "
   ]
  },
  {
   "cell_type": "markdown",
   "metadata": {},
   "source": [
    "In order to determine the quality of the reads, I ran bowtie2 again using the filtered reads that did not align to the human genome (presumably Shewanella oneidensis DNA) as my input reads and the Shewanella oneidensis genome as the reference. I used the following command in the PuTTY terminal: "
   ]
  },
  {
   "cell_type": "code",
   "execution_count": null,
   "metadata": {},
   "outputs": [],
   "source": [
    "bowtie2 -p 4 --very-fast --no-unal -x /data/lab6/shewanella_oneidensis_mr-1 -U unaligned.fastq -S output_filtered.sam --un unaligned2.fastq"
   ]
  },
  {
   "cell_type": "markdown",
   "metadata": {},
   "source": [
    "The following output was generated: \n",
    "\n",
    "1028379 reads; of these:\n",
    "  1028379 (100.00%) were unpaired; of these:\n",
    "    299560 (29.13%) aligned 0 times\n",
    "    687571 (66.86%) aligned exactly 1 time\n",
    "    41248 (4.01%) aligned >1 times\n",
    "70.87% overall alignment rate\n",
    "\n",
    "    \n",
    "__Here, 'unaligned2.fastq' will contain sequences that neither aligned with the human genome or the Shewanella oneidensis genome. 29.13% of the reads did not allign to the reference genome. This may include low quality reads or additional contamination from other organisms. __"
   ]
  },
  {
   "cell_type": "markdown",
   "metadata": {},
   "source": [
    "__When '--very-sensitive' was used instead of '--very-fast' (command shown below), the following output was generated:__\n",
    "\n",
    "1028379 reads; of these:\n",
    "  1028379 (100.00%) were unpaired; of these:\n",
    "    298112 (28.99%) aligned 0 times\n",
    "    688180 (66.92%) aligned exactly 1 time\n",
    "    42087 (4.09%) aligned >1 times\n",
    "71.01% overall alignment rate\n",
    "\n",
    "__As seen, the overall alignment rate improved by 0.14%.__\n",
    "\n",
    "\n",
    "\n"
   ]
  },
  {
   "cell_type": "code",
   "execution_count": null,
   "metadata": {},
   "outputs": [],
   "source": [
    "bowtie2 -p 4 --very-sensitive --no-unal -x /data/lab6/shewanella_oneidensis_mr-1 -U unaligned.fastq -S output_senstitivefiltered.sam --un unaligned2sensitive.fastq\n"
   ]
  },
  {
   "cell_type": "markdown",
   "metadata": {},
   "source": [
    "__The following commands were used to generate the 'sensitive.tab' file.__"
   ]
  },
  {
   "cell_type": "markdown",
   "metadata": {},
   "source": [
    "__Converting sam file to bam files__"
   ]
  },
  {
   "cell_type": "code",
   "execution_count": null,
   "metadata": {},
   "outputs": [],
   "source": [
    "samtools view -b output_senstitivefiltered.sam >output_sens.bam"
   ]
  },
  {
   "cell_type": "markdown",
   "metadata": {},
   "source": [
    "__Sorting the bam file__"
   ]
  },
  {
   "cell_type": "code",
   "execution_count": null,
   "metadata": {},
   "outputs": [],
   "source": [
    "samtools sort output_sens.bam > output_sens.sorted.bam"
   ]
  },
  {
   "cell_type": "markdown",
   "metadata": {},
   "source": [
    "__Indexing the bam file__"
   ]
  },
  {
   "cell_type": "code",
   "execution_count": null,
   "metadata": {},
   "outputs": [],
   "source": [
    "samtools index output_sens.sorted.bam"
   ]
  },
  {
   "cell_type": "markdown",
   "metadata": {},
   "source": [
    "__Generating a tab separated file for iterating through in python__"
   ]
  },
  {
   "cell_type": "code",
   "execution_count": null,
   "metadata": {},
   "outputs": [],
   "source": [
    "samtools depth -a output_sens.sorted.bam > sensitive.tab"
   ]
  },
  {
   "cell_type": "markdown",
   "metadata": {},
   "source": [
    "The code below imports matplotlib.pyplot and numpy in order to generate plots of the coverage data processed using the commands above. \n",
    "\n",
    "'positions' and 'coverages' are defined as empty lists to be populated later. 'depths' is the variable name of the tab file containing the depth of sequencing at each position using the '--very-sensitive' method with bowtie2. \n",
    "\n",
    "For each row in the tab separated file, a tab-separated list 'tab_delimited_info' is generated. The second entry in each of these temporary lists will contain the position. The third entry in each of these temporary lists will contain the coverage as a string along with a '\\n' at the end. To get rid of the '\\n', I simply take the third entry of 'tab_delimited_info' and split it at '\\n', taking the first entry of the resulting list 'coverage_no_line' as calling it 'coverage'. Then, I add the cleaned coverages and positions to the 'positions' and 'coverages' lists defined earlier. \n",
    "\n",
    "To generated lists of integers that can be ploted with pyplot, I simply iterate through positions and coverages, casting each entry in the list as an integer and adding it to a final duo of lists position_coord and coverage_coord. "
   ]
  },
  {
   "cell_type": "code",
   "execution_count": 30,
   "metadata": {},
   "outputs": [],
   "source": [
    "import matplotlib.pyplot as plt\n",
    "import numpy as np\n",
    "\n",
    "positions = []\n",
    "coverages = []\n",
    "depths = open('sensitive.tab')\n",
    "\n",
    "\n",
    "for entry in depths:\n",
    "    tab_delimited_info = entry.split('\\t')\n",
    "    \n",
    "    coverage_no_line = tab_delimited_info[2].split('\\n')\n",
    "    coverage = coverage_no_line[0]\n",
    "    \n",
    "    positions.append(tab_delimited_info[1])\n",
    "    coverages.append(coverage)\n",
    "    \n",
    "position_coord = []\n",
    "coverage_coord = []\n",
    "\n",
    "for i in range(len(positions)):\n",
    "    position_coord.append(int(positions[i]))\n",
    "    if len(positions)==len(coverages):\n",
    "        coverage_coord.append(int(coverages[i]))\n"
   ]
  },
  {
   "cell_type": "markdown",
   "metadata": {},
   "source": [
    "Plotting the coverage at each position. "
   ]
  },
  {
   "cell_type": "code",
   "execution_count": 31,
   "metadata": {},
   "outputs": [
    {
     "data": {
      "image/png": "[encoded data removed]",
      "text/plain": [
       "<Figure size 432x288 with 1 Axes>"
      ]
     },
     "metadata": {
      "needs_background": "light"
     },
     "output_type": "display_data"
    }
   ],
   "source": [
    "plt.plot(position_coord, coverage_coord)\n",
    "plt.xlabel('Position')\n",
    "plt.ylabel('Depth of Coverage')\n",
    "plt.show()\n"
   ]
  },
  {
   "cell_type": "markdown",
   "metadata": {},
   "source": [
    "Plotting the histogram of coverages within the set of reads. "
   ]
  },
  {
   "cell_type": "code",
   "execution_count": 34,
   "metadata": {},
   "outputs": [
    {
     "data": {
      "image/png": "[encoded data removed]",
      "text/plain": [
       "<Figure size 432x288 with 1 Axes>"
      ]
     },
     "metadata": {
      "needs_background": "light"
     },
     "output_type": "display_data"
    }
   ],
   "source": [
    "plt.hist(coverage_coord, bins = range(0,300, 3))\n",
    "plt.xlabel('Depth of Coverage')\n",
    "plt.ylabel('Number of Positions Represented')\n",
    "plt.show()\n"
   ]
  },
  {
   "cell_type": "code",
   "execution_count": 35,
   "metadata": {},
   "outputs": [
    {
     "name": "stdout",
     "output_type": "stream",
     "text": [
      "0\n",
      "281\n",
      "37.03830306625343\n"
     ]
    }
   ],
   "source": [
    "min_coverage = min(coverage_coord)\n",
    "max_coverage = max(coverage_coord)\n",
    "average_coverage = np.average(coverage_coord)\n",
    "print(min_coverage)\n",
    "print(max_coverage)\n",
    "print(average_coverage)"
   ]
  },
  {
   "cell_type": "markdown",
   "metadata": {},
   "source": [
    "__Analysis__\n",
    "\n",
    "The minimum coverage is 0, maximum coverage is 281. The average coverage is 37.038. "
   ]
  },
  {
   "cell_type": "markdown",
   "metadata": {},
   "source": []
  },
  {
   "cell_type": "code",
   "execution_count": 39,
   "metadata": {},
   "outputs": [
    {
     "ename": "KeyboardInterrupt",
     "evalue": "",
     "output_type": "error",
     "traceback": [
      "\u001b[0;31m---------------------------------------------------------------------------\u001b[0m",
      "\u001b[0;31mKeyboardInterrupt\u001b[0m                         Traceback (most recent call last)",
      "\u001b[0;32m<ipython-input-39-506b2c431598>\u001b[0m in \u001b[0;36m<module>\u001b[0;34m()\u001b[0m\n\u001b[1;32m      3\u001b[0m \u001b[0mhum_coverage\u001b[0m \u001b[0;34m=\u001b[0m \u001b[0;34m[\u001b[0m\u001b[0;34m]\u001b[0m\u001b[0;34m\u001b[0m\u001b[0m\n\u001b[1;32m      4\u001b[0m \u001b[0;32mfor\u001b[0m \u001b[0mentry\u001b[0m \u001b[0;32min\u001b[0m \u001b[0mhumandepths\u001b[0m\u001b[0;34m:\u001b[0m\u001b[0;34m\u001b[0m\u001b[0m\n\u001b[0;32m----> 5\u001b[0;31m     \u001b[0mtab_delimited_info\u001b[0m \u001b[0;34m=\u001b[0m \u001b[0mentry\u001b[0m\u001b[0;34m.\u001b[0m\u001b[0msplit\u001b[0m\u001b[0;34m(\u001b[0m\u001b[0;34m'\\t'\u001b[0m\u001b[0;34m)\u001b[0m\u001b[0;34m\u001b[0m\u001b[0m\n\u001b[0m\u001b[1;32m      6\u001b[0m \u001b[0;34m\u001b[0m\u001b[0m\n\u001b[1;32m      7\u001b[0m     \u001b[0mcoverage_no_line\u001b[0m \u001b[0;34m=\u001b[0m \u001b[0mtab_delimited_info\u001b[0m\u001b[0;34m[\u001b[0m\u001b[0;36m2\u001b[0m\u001b[0;34m]\u001b[0m\u001b[0;34m.\u001b[0m\u001b[0msplit\u001b[0m\u001b[0;34m(\u001b[0m\u001b[0;34m'\\n'\u001b[0m\u001b[0;34m)\u001b[0m\u001b[0;34m\u001b[0m\u001b[0m\n",
      "\u001b[0;31mKeyboardInterrupt\u001b[0m: "
     ]
    }
   ],
   "source": []
  },
  {
   "cell_type": "code",
   "execution_count": null,
   "metadata": {},
   "outputs": [],
   "source": []
  },
  {
   "cell_type": "code",
   "execution_count": null,
   "metadata": {},
   "outputs": [],
   "source": []
  }
 ],
 "metadata": {
  "kernelspec": {
   "display_name": "Python 3",
   "language": "python",
   "name": "python3"
  },
  "language_info": {
   "codemirror_mode": {
    "name": "ipython",
    "version": 3
   },
   "file_extension": ".py",
   "mimetype": "text/x-python",
   "name": "python",
   "nbconvert_exporter": "python",
   "pygments_lexer": "ipython3",
   "version": "3.6.6"
  }
 },
 "nbformat": 4,
 "nbformat_minor": 2
}
